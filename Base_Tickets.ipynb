{
 "cells": [
  {
   "cell_type": "markdown",
   "metadata": {},
   "source": [
    "### BASE TICKET"
   ]
  },
  {
   "cell_type": "code",
   "execution_count": 3,
   "metadata": {},
   "outputs": [],
   "source": [
    "import polars as pl\n",
    "from polars import Config"
   ]
  },
  {
   "cell_type": "code",
   "execution_count": 4,
   "metadata": {},
   "outputs": [
    {
     "data": {
      "text/plain": [
       "polars.config.Config"
      ]
     },
     "execution_count": 4,
     "metadata": {},
     "output_type": "execute_result"
    }
   ],
   "source": [
    "Config.set_fmt_str_lengths(100)"
   ]
  },
  {
   "cell_type": "markdown",
   "metadata": {},
   "source": [
    "#### Importar archivo Tickets Historico.txt"
   ]
  },
  {
   "cell_type": "code",
   "execution_count": 12,
   "metadata": {},
   "outputs": [],
   "source": [
    "Historico = pl.read_csv(\n",
    "    source = '../Tickets/Tickets Historico.txt', \n",
    "    separator=';',\n",
    "    columns= ['Numero Ticket','Ubicacion','Service Desk','Estado','Fecha Creacion','Fecha Termino','Fecha Cierre'],\n",
    "    try_parse_dates=True,\n",
    "    ignore_errors= True\n",
    ").rename({'Numero Ticket':'TicketID'})"
   ]
  },
  {
   "cell_type": "markdown",
   "metadata": {},
   "source": [
    "### Importar archivo Tickets Actual.csv"
   ]
  },
  {
   "cell_type": "code",
   "execution_count": 29,
   "metadata": {},
   "outputs": [],
   "source": [
    "Actual = pl.read_csv(\n",
    "    source = '../Tickets/Tickets Actual.csv', \n",
    "    separator='|',\n",
    "    columns= ['Numero Ticket','Ubicacion','Service Desk','Estado','Fecha Creacion','Fecha Termino','Fecha Cierre']\n",
    ").rename({'Numero Ticket':'TicketID'})"
   ]
  },
  {
   "cell_type": "code",
   "execution_count": 32,
   "metadata": {},
   "outputs": [
    {
     "data": {
      "text/html": [
       "<div><style>\n",
       ".dataframe > thead > tr,\n",
       ".dataframe > tbody > tr {\n",
       "  text-align: right;\n",
       "  white-space: pre-wrap;\n",
       "}\n",
       "</style>\n",
       "<small>shape: (10, 7)</small><table border=\"1\" class=\"dataframe\"><thead><tr><th>TicketID</th><th>Ubicacion</th><th>Service Desk</th><th>Estado</th><th>Fecha Creacion</th><th>Fecha Termino</th><th>Fecha Cierre</th></tr><tr><td>str</td><td>str</td><td>str</td><td>str</td><td>str</td><td>str</td><td>str</td></tr></thead><tbody><tr><td>&quot;WO0000004853311&quot;</td><td>&quot;TUPAC AMARU - 191038&quot;</td><td>&quot;Zona Centro&quot;</td><td>&quot;Cerrado&quot;</td><td>&quot;2023-01-02&quot;</td><td>&quot;10/01/2023&quot;</td><td>&quot;13/01/2023&quot;</td></tr><tr><td>&quot;WO0000004852942&quot;</td><td>&quot;SAN JUAN DE LURIGANCHO - 191017&quot;</td><td>&quot;Zona Centro&quot;</td><td>&quot;Cerrado&quot;</td><td>&quot;2023-01-02&quot;</td><td>&quot;2/01/2023&quot;</td><td>&quot;5/01/2023&quot;</td></tr><tr><td>&quot;WO0000004852621&quot;</td><td>&quot;MARIANO MELGAR - 215014&quot;</td><td>&quot;Zona Norte&quot;</td><td>&quot;Cerrado&quot;</td><td>&quot;2023-01-02&quot;</td><td>&quot;6/01/2023&quot;</td><td>&quot;9/01/2023&quot;</td></tr><tr><td>&quot;SA0000004853328&quot;</td><td>&quot;ANDAHUAYLAS - 205000&quot;</td><td>&quot;Zona Norte&quot;</td><td>&quot;Cerrado&quot;</td><td>&quot;2023-01-02&quot;</td><td>&quot;7/01/2023&quot;</td><td>&quot;10/01/2023&quot;</td></tr><tr><td>&quot;SA0000004853160&quot;</td><td>&quot;COLLIQUE - 191065&quot;</td><td>&quot;Zona Centro&quot;</td><td>&quot;Cerrado&quot;</td><td>&quot;2023-01-02&quot;</td><td>&quot;4/01/2023&quot;</td><td>&quot;7/01/2023&quot;</td></tr><tr><td>&quot;SA0000004853158&quot;</td><td>&quot;COLLIQUE - 191065&quot;</td><td>&quot;Zona Centro&quot;</td><td>&quot;Cerrado&quot;</td><td>&quot;2023-01-02&quot;</td><td>&quot;6/01/2023&quot;</td><td>&quot;9/01/2023&quot;</td></tr><tr><td>&quot;SA0000004853157&quot;</td><td>&quot;COLLIQUE - 191065&quot;</td><td>&quot;Zona Centro&quot;</td><td>&quot;Cerrado&quot;</td><td>&quot;2023-01-02&quot;</td><td>&quot;4/01/2023&quot;</td><td>&quot;7/01/2023&quot;</td></tr><tr><td>&quot;SA0000004853156&quot;</td><td>&quot;COLLIQUE - 191065&quot;</td><td>&quot;Zona Centro&quot;</td><td>&quot;Cerrado&quot;</td><td>&quot;2023-01-02&quot;</td><td>&quot;15/01/2023&quot;</td><td>&quot;18/01/2023&quot;</td></tr><tr><td>&quot;WO0000004853328&quot;</td><td>&quot;ANDAHUAYLAS - 205000&quot;</td><td>&quot;Zona Norte&quot;</td><td>&quot;Cerrado&quot;</td><td>&quot;2023-01-02&quot;</td><td>&quot;7/01/2023&quot;</td><td>&quot;10/01/2023&quot;</td></tr><tr><td>&quot;WO0000004853160&quot;</td><td>&quot;COLLIQUE - 191065&quot;</td><td>&quot;Zona Centro&quot;</td><td>&quot;Cerrado&quot;</td><td>&quot;2023-01-02&quot;</td><td>&quot;4/01/2023&quot;</td><td>&quot;7/01/2023&quot;</td></tr></tbody></table></div>"
      ],
      "text/plain": [
       "shape: (10, 7)\n",
       "┌──────────────┬──────────────┬──────────────┬─────────┬──────────────┬──────────────┬─────────────┐\n",
       "│ TicketID     ┆ Ubicacion    ┆ Service Desk ┆ Estado  ┆ Fecha        ┆ Fecha        ┆ Fecha       │\n",
       "│ ---          ┆ ---          ┆ ---          ┆ ---     ┆ Creacion     ┆ Termino      ┆ Cierre      │\n",
       "│ str          ┆ str          ┆ str          ┆ str     ┆ ---          ┆ ---          ┆ ---         │\n",
       "│              ┆              ┆              ┆         ┆ str          ┆ str          ┆ str         │\n",
       "╞══════════════╪══════════════╪══════════════╪═════════╪══════════════╪══════════════╪═════════════╡\n",
       "│ WO0000004853 ┆ TUPAC AMARU  ┆ Zona Centro  ┆ Cerrado ┆ 2023-01-02   ┆ 10/01/2023   ┆ 13/01/2023  │\n",
       "│ 311          ┆ - 191038     ┆              ┆         ┆              ┆              ┆             │\n",
       "│ WO0000004852 ┆ SAN JUAN DE  ┆ Zona Centro  ┆ Cerrado ┆ 2023-01-02   ┆ 2/01/2023    ┆ 5/01/2023   │\n",
       "│ 942          ┆ LURIGANCHO - ┆              ┆         ┆              ┆              ┆             │\n",
       "│              ┆ 191017       ┆              ┆         ┆              ┆              ┆             │\n",
       "│ WO0000004852 ┆ MARIANO      ┆ Zona Norte   ┆ Cerrado ┆ 2023-01-02   ┆ 6/01/2023    ┆ 9/01/2023   │\n",
       "│ 621          ┆ MELGAR -     ┆              ┆         ┆              ┆              ┆             │\n",
       "│              ┆ 215014       ┆              ┆         ┆              ┆              ┆             │\n",
       "│ SA0000004853 ┆ ANDAHUAYLAS  ┆ Zona Norte   ┆ Cerrado ┆ 2023-01-02   ┆ 7/01/2023    ┆ 10/01/2023  │\n",
       "│ 328          ┆ - 205000     ┆              ┆         ┆              ┆              ┆             │\n",
       "│ SA0000004853 ┆ COLLIQUE -   ┆ Zona Centro  ┆ Cerrado ┆ 2023-01-02   ┆ 4/01/2023    ┆ 7/01/2023   │\n",
       "│ 160          ┆ 191065       ┆              ┆         ┆              ┆              ┆             │\n",
       "│ SA0000004853 ┆ COLLIQUE -   ┆ Zona Centro  ┆ Cerrado ┆ 2023-01-02   ┆ 6/01/2023    ┆ 9/01/2023   │\n",
       "│ 158          ┆ 191065       ┆              ┆         ┆              ┆              ┆             │\n",
       "│ SA0000004853 ┆ COLLIQUE -   ┆ Zona Centro  ┆ Cerrado ┆ 2023-01-02   ┆ 4/01/2023    ┆ 7/01/2023   │\n",
       "│ 157          ┆ 191065       ┆              ┆         ┆              ┆              ┆             │\n",
       "│ SA0000004853 ┆ COLLIQUE -   ┆ Zona Centro  ┆ Cerrado ┆ 2023-01-02   ┆ 15/01/2023   ┆ 18/01/2023  │\n",
       "│ 156          ┆ 191065       ┆              ┆         ┆              ┆              ┆             │\n",
       "│ WO0000004853 ┆ ANDAHUAYLAS  ┆ Zona Norte   ┆ Cerrado ┆ 2023-01-02   ┆ 7/01/2023    ┆ 10/01/2023  │\n",
       "│ 328          ┆ - 205000     ┆              ┆         ┆              ┆              ┆             │\n",
       "│ WO0000004853 ┆ COLLIQUE -   ┆ Zona Centro  ┆ Cerrado ┆ 2023-01-02   ┆ 4/01/2023    ┆ 7/01/2023   │\n",
       "│ 160          ┆ 191065       ┆              ┆         ┆              ┆              ┆             │\n",
       "└──────────────┴──────────────┴──────────────┴─────────┴──────────────┴──────────────┴─────────────┘"
      ]
     },
     "execution_count": 32,
     "metadata": {},
     "output_type": "execute_result"
    }
   ],
   "source": [
    "Actual.head(10)"
   ]
  },
  {
   "cell_type": "code",
   "execution_count": 50,
   "metadata": {},
   "outputs": [],
   "source": [
    "Actual = Actual.select(\n",
    "    'TicketID',\n",
    "    'Ubicacion',\n",
    "    'Service Desk',\n",
    "    'Estado',\n",
    "    pl.col('Fecha Creacion').cast(pl.Date),\n",
    "    pl.col('Fecha Termino').str.to_date(format = '%d/%m/%Y'),\n",
    "    pl.col('Fecha Cierre').str.to_date(format = '%d/%m/%Y')\n",
    ").head(5)"
   ]
  },
  {
   "cell_type": "code",
   "execution_count": 74,
   "metadata": {},
   "outputs": [
    {
     "data": {
      "text/html": [
       "<div><style>\n",
       ".dataframe > thead > tr,\n",
       ".dataframe > tbody > tr {\n",
       "  text-align: right;\n",
       "  white-space: pre-wrap;\n",
       "}\n",
       "</style>\n",
       "<small>shape: (3, 7)</small><table border=\"1\" class=\"dataframe\"><thead><tr><th>TicketID</th><th>Ubicacion</th><th>Service Desk</th><th>Estado</th><th>Fecha Creacion</th><th>Fecha Termino</th><th>Fecha Cierre</th></tr><tr><td>str</td><td>str</td><td>str</td><td>str</td><td>date</td><td>date</td><td>date</td></tr></thead><tbody><tr><td>&quot;WO0000004853311&quot;</td><td>&quot;TUPAC AMARU - 191038&quot;</td><td>&quot;Zona Centro&quot;</td><td>&quot;Cerrado&quot;</td><td>2023-01-02</td><td>2023-01-10</td><td>2023-01-13</td></tr><tr><td>&quot;WO0000004852942&quot;</td><td>&quot;SAN JUAN DE LURIGANCHO - 191017&quot;</td><td>&quot;Zona Centro&quot;</td><td>&quot;Cerrado&quot;</td><td>2023-01-02</td><td>2023-01-02</td><td>2023-01-05</td></tr><tr><td>&quot;WO0000004852621&quot;</td><td>&quot;MARIANO MELGAR - 215014&quot;</td><td>&quot;Zona Norte&quot;</td><td>&quot;Cerrado&quot;</td><td>2023-01-02</td><td>2023-01-06</td><td>2023-01-09</td></tr></tbody></table></div>"
      ],
      "text/plain": [
       "shape: (3, 7)\n",
       "┌──────────────┬──────────────┬──────────────┬─────────┬──────────────┬──────────────┬─────────────┐\n",
       "│ TicketID     ┆ Ubicacion    ┆ Service Desk ┆ Estado  ┆ Fecha        ┆ Fecha        ┆ Fecha       │\n",
       "│ ---          ┆ ---          ┆ ---          ┆ ---     ┆ Creacion     ┆ Termino      ┆ Cierre      │\n",
       "│ str          ┆ str          ┆ str          ┆ str     ┆ ---          ┆ ---          ┆ ---         │\n",
       "│              ┆              ┆              ┆         ┆ date         ┆ date         ┆ date        │\n",
       "╞══════════════╪══════════════╪══════════════╪═════════╪══════════════╪══════════════╪═════════════╡\n",
       "│ WO0000004853 ┆ TUPAC AMARU  ┆ Zona Centro  ┆ Cerrado ┆ 2023-01-02   ┆ 2023-01-10   ┆ 2023-01-13  │\n",
       "│ 311          ┆ - 191038     ┆              ┆         ┆              ┆              ┆             │\n",
       "│ WO0000004852 ┆ SAN JUAN DE  ┆ Zona Centro  ┆ Cerrado ┆ 2023-01-02   ┆ 2023-01-02   ┆ 2023-01-05  │\n",
       "│ 942          ┆ LURIGANCHO - ┆              ┆         ┆              ┆              ┆             │\n",
       "│              ┆ 191017       ┆              ┆         ┆              ┆              ┆             │\n",
       "│ WO0000004852 ┆ MARIANO      ┆ Zona Norte   ┆ Cerrado ┆ 2023-01-02   ┆ 2023-01-06   ┆ 2023-01-09  │\n",
       "│ 621          ┆ MELGAR -     ┆              ┆         ┆              ┆              ┆             │\n",
       "│              ┆ 215014       ┆              ┆         ┆              ┆              ┆             │\n",
       "└──────────────┴──────────────┴──────────────┴─────────┴──────────────┴──────────────┴─────────────┘"
      ]
     },
     "execution_count": 74,
     "metadata": {},
     "output_type": "execute_result"
    }
   ],
   "source": [
    "Actual.filter(\n",
    "    pl.col('TicketID').str.starts_with('WO')\n",
    ")"
   ]
  },
  {
   "cell_type": "code",
   "execution_count": 75,
   "metadata": {},
   "outputs": [],
   "source": [
    "Tickets = pl.concat([Historico,Actual])"
   ]
  },
  {
   "cell_type": "code",
   "execution_count": 76,
   "metadata": {},
   "outputs": [
    {
     "data": {
      "text/plain": [
       "(9211, 7)"
      ]
     },
     "execution_count": 76,
     "metadata": {},
     "output_type": "execute_result"
    }
   ],
   "source": [
    "Tickets.shape"
   ]
  },
  {
   "cell_type": "markdown",
   "metadata": {},
   "source": [
    "#### ELIMINAR DUPLICADOS"
   ]
  },
  {
   "cell_type": "code",
   "execution_count": 77,
   "metadata": {},
   "outputs": [
    {
     "data": {
      "text/plain": [
       "(9198, 7)"
      ]
     },
     "execution_count": 77,
     "metadata": {},
     "output_type": "execute_result"
    }
   ],
   "source": [
    "Tickets.unique(subset=['TicketID','Ubicacion','Service Desk','Estado','Fecha Creacion','Fecha Termino','Fecha Cierre']).shape"
   ]
  },
  {
   "cell_type": "code",
   "execution_count": 78,
   "metadata": {},
   "outputs": [],
   "source": [
    "Tickets = Tickets.sort(\n",
    "    by = ['TicketID', 'Fecha Creacion']   \n",
    ").unique(\n",
    "    subset='TicketID',\n",
    "    keep= 'last',\n",
    "    maintain_order= True\n",
    ")"
   ]
  },
  {
   "cell_type": "code",
   "execution_count": 80,
   "metadata": {},
   "outputs": [
    {
     "data": {
      "text/html": [
       "<div><style>\n",
       ".dataframe > thead > tr,\n",
       ".dataframe > tbody > tr {\n",
       "  text-align: right;\n",
       "  white-space: pre-wrap;\n",
       "}\n",
       "</style>\n",
       "<small>shape: (5, 7)</small><table border=\"1\" class=\"dataframe\"><thead><tr><th>TicketID</th><th>Ubicacion</th><th>Service Desk</th><th>Estado</th><th>Fecha Creacion</th><th>Fecha Termino</th><th>Fecha Cierre</th></tr><tr><td>str</td><td>str</td><td>str</td><td>str</td><td>date</td><td>date</td><td>date</td></tr></thead><tbody><tr><td>&quot;OT0000004849379&quot;</td><td>&quot;NAYLAMP - 191143&quot;</td><td>&quot;Zona Centro&quot;</td><td>&quot;Cerrado&quot;</td><td>2022-12-31</td><td>2023-01-25</td><td>2023-01-28</td></tr><tr><td>&quot;OT0000004849382&quot;</td><td>&quot;LOS DAMASCOS - 193038&quot;</td><td>&quot;Zona Sur&quot;</td><td>&quot;Cerrado&quot;</td><td>2022-12-31</td><td>2023-01-04</td><td>2023-01-07</td></tr><tr><td>&quot;OT0000004849726&quot;</td><td>&quot;LUREN - 380004&quot;</td><td>&quot;Zona Sur&quot;</td><td>&quot;Cerrado&quot;</td><td>2022-12-31</td><td>2023-01-02</td><td>2023-01-05</td></tr><tr><td>&quot;OT0000004849732&quot;</td><td>&quot;EL PINO - 191087&quot;</td><td>&quot;Zona Centro&quot;</td><td>&quot;Cerrado&quot;</td><td>2022-12-31</td><td>2023-01-06</td><td>2023-01-09</td></tr><tr><td>&quot;SA0000004849307&quot;</td><td>&quot;TUSILAGOS - 191108&quot;</td><td>&quot;Zona Centro&quot;</td><td>&quot;Rechazado&quot;</td><td>2022-12-31</td><td>null</td><td>null</td></tr></tbody></table></div>"
      ],
      "text/plain": [
       "shape: (5, 7)\n",
       "┌──────────────┬──────────────┬──────────────┬───────────┬─────────────┬─────────────┬─────────────┐\n",
       "│ TicketID     ┆ Ubicacion    ┆ Service Desk ┆ Estado    ┆ Fecha       ┆ Fecha       ┆ Fecha       │\n",
       "│ ---          ┆ ---          ┆ ---          ┆ ---       ┆ Creacion    ┆ Termino     ┆ Cierre      │\n",
       "│ str          ┆ str          ┆ str          ┆ str       ┆ ---         ┆ ---         ┆ ---         │\n",
       "│              ┆              ┆              ┆           ┆ date        ┆ date        ┆ date        │\n",
       "╞══════════════╪══════════════╪══════════════╪═══════════╪═════════════╪═════════════╪═════════════╡\n",
       "│ OT0000004849 ┆ NAYLAMP -    ┆ Zona Centro  ┆ Cerrado   ┆ 2022-12-31  ┆ 2023-01-25  ┆ 2023-01-28  │\n",
       "│ 379          ┆ 191143       ┆              ┆           ┆             ┆             ┆             │\n",
       "│ OT0000004849 ┆ LOS DAMASCOS ┆ Zona Sur     ┆ Cerrado   ┆ 2022-12-31  ┆ 2023-01-04  ┆ 2023-01-07  │\n",
       "│ 382          ┆ - 193038     ┆              ┆           ┆             ┆             ┆             │\n",
       "│ OT0000004849 ┆ LUREN -      ┆ Zona Sur     ┆ Cerrado   ┆ 2022-12-31  ┆ 2023-01-02  ┆ 2023-01-05  │\n",
       "│ 726          ┆ 380004       ┆              ┆           ┆             ┆             ┆             │\n",
       "│ OT0000004849 ┆ EL PINO -    ┆ Zona Centro  ┆ Cerrado   ┆ 2022-12-31  ┆ 2023-01-06  ┆ 2023-01-09  │\n",
       "│ 732          ┆ 191087       ┆              ┆           ┆             ┆             ┆             │\n",
       "│ SA0000004849 ┆ TUSILAGOS -  ┆ Zona Centro  ┆ Rechazado ┆ 2022-12-31  ┆ null        ┆ null        │\n",
       "│ 307          ┆ 191108       ┆              ┆           ┆             ┆             ┆             │\n",
       "└──────────────┴──────────────┴──────────────┴───────────┴─────────────┴─────────────┴─────────────┘"
      ]
     },
     "execution_count": 80,
     "metadata": {},
     "output_type": "execute_result"
    }
   ],
   "source": [
    "Tickets.head(5)"
   ]
  },
  {
   "cell_type": "code",
   "execution_count": 82,
   "metadata": {},
   "outputs": [],
   "source": [
    "Tickets = Tickets.with_columns(\n",
    "    pl.col('Ubicacion')\n",
    "    .str.split_exact(' - ',1)\n",
    "    .struct.rename_fields(['Agencia','AgenciaID'])\n",
    "    .alias('Agencia')\n",
    ").unnest('Agencia')"
   ]
  },
  {
   "cell_type": "code",
   "execution_count": 86,
   "metadata": {},
   "outputs": [],
   "source": [
    "Tickets = Tickets.cast({'AgenciaID' : pl.Int64})"
   ]
  },
  {
   "cell_type": "markdown",
   "metadata": {},
   "source": [
    "#### Agregar Columna"
   ]
  },
  {
   "cell_type": "code",
   "execution_count": 88,
   "metadata": {},
   "outputs": [],
   "source": [
    "Tickets = Tickets.with_columns(\n",
    "    pl.when(pl.col('Fecha Termino').is_null())\n",
    "    .then(pl.col('Fecha Cierre'))\n",
    "    .otherwise(pl.col('Fecha Termino'))\n",
    "    .alias('Fecha Real Fin')    \n",
    ")"
   ]
  },
  {
   "cell_type": "code",
   "execution_count": 90,
   "metadata": {},
   "outputs": [],
   "source": [
    "Tickets = Tickets.with_columns(\n",
    "    (pl.col('Fecha Real Fin') - pl.col('Fecha Creacion'))\n",
    "    .dt.total_days()\n",
    "    .alias('Dias Cierre')\n",
    ")"
   ]
  },
  {
   "cell_type": "code",
   "execution_count": 92,
   "metadata": {},
   "outputs": [],
   "source": [
    "Tickets = Tickets.with_columns(\n",
    "    pl.when(pl.col('Dias Cierre').is_null()).then(None)\n",
    "    .when(pl.col('Dias Cierre') < 3).then(pl.lit('0 a 3 dias'))\n",
    "    .when(pl.col('Dias Cierre') < 7).then(pl.lit('3 a 7 dias'))\n",
    "    .when(pl.col('Dias Cierre') < 15).then(pl.lit('7 a 15 dias'))\n",
    "    .otherwise(pl.lit('Mas de 15 dias'))\n",
    "    .alias('Grupo Dias')    \n",
    ")"
   ]
  },
  {
   "cell_type": "code",
   "execution_count": 94,
   "metadata": {},
   "outputs": [
    {
     "data": {
      "text/html": [
       "<div><style>\n",
       ".dataframe > thead > tr,\n",
       ".dataframe > tbody > tr {\n",
       "  text-align: right;\n",
       "  white-space: pre-wrap;\n",
       "}\n",
       "</style>\n",
       "<small>shape: (10, 12)</small><table border=\"1\" class=\"dataframe\"><thead><tr><th>TicketID</th><th>Ubicacion</th><th>Service Desk</th><th>Estado</th><th>Fecha Creacion</th><th>Fecha Termino</th><th>Fecha Cierre</th><th>Agencia</th><th>AgenciaID</th><th>Fecha Real Fin</th><th>Dias Cierre</th><th>Grupo Dias</th></tr><tr><td>str</td><td>str</td><td>str</td><td>str</td><td>date</td><td>date</td><td>date</td><td>str</td><td>i64</td><td>date</td><td>i64</td><td>str</td></tr></thead><tbody><tr><td>&quot;OT0000004849379&quot;</td><td>&quot;NAYLAMP - 191143&quot;</td><td>&quot;Zona Centro&quot;</td><td>&quot;Cerrado&quot;</td><td>2022-12-31</td><td>2023-01-25</td><td>2023-01-28</td><td>&quot;NAYLAMP&quot;</td><td>191143</td><td>2023-01-25</td><td>25</td><td>&quot;Mas de 15 dias&quot;</td></tr><tr><td>&quot;OT0000004849382&quot;</td><td>&quot;LOS DAMASCOS - 193038&quot;</td><td>&quot;Zona Sur&quot;</td><td>&quot;Cerrado&quot;</td><td>2022-12-31</td><td>2023-01-04</td><td>2023-01-07</td><td>&quot;LOS DAMASCOS&quot;</td><td>193038</td><td>2023-01-04</td><td>4</td><td>&quot;3 a 7 dias&quot;</td></tr><tr><td>&quot;OT0000004849726&quot;</td><td>&quot;LUREN - 380004&quot;</td><td>&quot;Zona Sur&quot;</td><td>&quot;Cerrado&quot;</td><td>2022-12-31</td><td>2023-01-02</td><td>2023-01-05</td><td>&quot;LUREN&quot;</td><td>380004</td><td>2023-01-02</td><td>2</td><td>&quot;0 a 3 dias&quot;</td></tr><tr><td>&quot;OT0000004849732&quot;</td><td>&quot;EL PINO - 191087&quot;</td><td>&quot;Zona Centro&quot;</td><td>&quot;Cerrado&quot;</td><td>2022-12-31</td><td>2023-01-06</td><td>2023-01-09</td><td>&quot;EL PINO&quot;</td><td>191087</td><td>2023-01-06</td><td>6</td><td>&quot;3 a 7 dias&quot;</td></tr><tr><td>&quot;SA0000004849307&quot;</td><td>&quot;TUSILAGOS - 191108&quot;</td><td>&quot;Zona Centro&quot;</td><td>&quot;Rechazado&quot;</td><td>2022-12-31</td><td>null</td><td>null</td><td>&quot;TUSILAGOS&quot;</td><td>191108</td><td>null</td><td>null</td><td>null</td></tr><tr><td>&quot;SA0000004853160&quot;</td><td>&quot;COLLIQUE - 191065&quot;</td><td>&quot;Zona Centro&quot;</td><td>&quot;Cerrado&quot;</td><td>2023-01-02</td><td>2023-01-04</td><td>2023-01-07</td><td>&quot;COLLIQUE&quot;</td><td>191065</td><td>2023-01-04</td><td>2</td><td>&quot;0 a 3 dias&quot;</td></tr><tr><td>&quot;SA0000004853328&quot;</td><td>&quot;ANDAHUAYLAS - 205000&quot;</td><td>&quot;Zona Norte&quot;</td><td>&quot;Cerrado&quot;</td><td>2023-01-02</td><td>2023-01-07</td><td>2023-01-10</td><td>&quot;ANDAHUAYLAS&quot;</td><td>205000</td><td>2023-01-07</td><td>5</td><td>&quot;3 a 7 dias&quot;</td></tr><tr><td>&quot;WO0000004122302&quot;</td><td>&quot;IMPERIAL - 255001&quot;</td><td>&quot;Zona Norte&quot;</td><td>&quot;Cerrado&quot;</td><td>2022-06-01</td><td>2022-06-10</td><td>2022-06-10</td><td>&quot;IMPERIAL&quot;</td><td>255001</td><td>2022-06-10</td><td>9</td><td>&quot;7 a 15 dias&quot;</td></tr><tr><td>&quot;WO0000004122303&quot;</td><td>&quot;IMPERIAL - 255001&quot;</td><td>&quot;Zona Norte&quot;</td><td>&quot;Cerrado&quot;</td><td>2022-06-01</td><td>2022-06-17</td><td>2022-06-17</td><td>&quot;IMPERIAL&quot;</td><td>255001</td><td>2022-06-17</td><td>16</td><td>&quot;Mas de 15 dias&quot;</td></tr><tr><td>&quot;WO0000004122353&quot;</td><td>&quot;PLAZA UNION - 191062&quot;</td><td>&quot;Zona Centro&quot;</td><td>&quot;Cerrado&quot;</td><td>2022-06-01</td><td>2022-06-05</td><td>2022-06-05</td><td>&quot;PLAZA UNION&quot;</td><td>191062</td><td>2022-06-05</td><td>4</td><td>&quot;3 a 7 dias&quot;</td></tr></tbody></table></div>"
      ],
      "text/plain": [
       "shape: (10, 12)\n",
       "┌───────────┬───────────┬───────────┬───────────┬───┬───────────┬───────────┬───────────┬──────────┐\n",
       "│ TicketID  ┆ Ubicacion ┆ Service   ┆ Estado    ┆ … ┆ AgenciaID ┆ Fecha     ┆ Dias      ┆ Grupo    │\n",
       "│ ---       ┆ ---       ┆ Desk      ┆ ---       ┆   ┆ ---       ┆ Real Fin  ┆ Cierre    ┆ Dias     │\n",
       "│ str       ┆ str       ┆ ---       ┆ str       ┆   ┆ i64       ┆ ---       ┆ ---       ┆ ---      │\n",
       "│           ┆           ┆ str       ┆           ┆   ┆           ┆ date      ┆ i64       ┆ str      │\n",
       "╞═══════════╪═══════════╪═══════════╪═══════════╪═══╪═══════════╪═══════════╪═══════════╪══════════╡\n",
       "│ OT0000004 ┆ NAYLAMP - ┆ Zona      ┆ Cerrado   ┆ … ┆ 191143    ┆ 2023-01-2 ┆ 25        ┆ Mas de   │\n",
       "│ 849379    ┆ 191143    ┆ Centro    ┆           ┆   ┆           ┆ 5         ┆           ┆ 15 dias  │\n",
       "│ OT0000004 ┆ LOS       ┆ Zona Sur  ┆ Cerrado   ┆ … ┆ 193038    ┆ 2023-01-0 ┆ 4         ┆ 3 a 7    │\n",
       "│ 849382    ┆ DAMASCOS  ┆           ┆           ┆   ┆           ┆ 4         ┆           ┆ dias     │\n",
       "│           ┆ - 193038  ┆           ┆           ┆   ┆           ┆           ┆           ┆          │\n",
       "│ OT0000004 ┆ LUREN -   ┆ Zona Sur  ┆ Cerrado   ┆ … ┆ 380004    ┆ 2023-01-0 ┆ 2         ┆ 0 a 3    │\n",
       "│ 849726    ┆ 380004    ┆           ┆           ┆   ┆           ┆ 2         ┆           ┆ dias     │\n",
       "│ OT0000004 ┆ EL PINO - ┆ Zona      ┆ Cerrado   ┆ … ┆ 191087    ┆ 2023-01-0 ┆ 6         ┆ 3 a 7    │\n",
       "│ 849732    ┆ 191087    ┆ Centro    ┆           ┆   ┆           ┆ 6         ┆           ┆ dias     │\n",
       "│ SA0000004 ┆ TUSILAGOS ┆ Zona      ┆ Rechazado ┆ … ┆ 191108    ┆ null      ┆ null      ┆ null     │\n",
       "│ 849307    ┆ - 191108  ┆ Centro    ┆           ┆   ┆           ┆           ┆           ┆          │\n",
       "│ SA0000004 ┆ COLLIQUE  ┆ Zona      ┆ Cerrado   ┆ … ┆ 191065    ┆ 2023-01-0 ┆ 2         ┆ 0 a 3    │\n",
       "│ 853160    ┆ - 191065  ┆ Centro    ┆           ┆   ┆           ┆ 4         ┆           ┆ dias     │\n",
       "│ SA0000004 ┆ ANDAHUAYL ┆ Zona      ┆ Cerrado   ┆ … ┆ 205000    ┆ 2023-01-0 ┆ 5         ┆ 3 a 7    │\n",
       "│ 853328    ┆ AS -      ┆ Norte     ┆           ┆   ┆           ┆ 7         ┆           ┆ dias     │\n",
       "│           ┆ 205000    ┆           ┆           ┆   ┆           ┆           ┆           ┆          │\n",
       "│ WO0000004 ┆ IMPERIAL  ┆ Zona      ┆ Cerrado   ┆ … ┆ 255001    ┆ 2022-06-1 ┆ 9         ┆ 7 a 15   │\n",
       "│ 122302    ┆ - 255001  ┆ Norte     ┆           ┆   ┆           ┆ 0         ┆           ┆ dias     │\n",
       "│ WO0000004 ┆ IMPERIAL  ┆ Zona      ┆ Cerrado   ┆ … ┆ 255001    ┆ 2022-06-1 ┆ 16        ┆ Mas de   │\n",
       "│ 122303    ┆ - 255001  ┆ Norte     ┆           ┆   ┆           ┆ 7         ┆           ┆ 15 dias  │\n",
       "│ WO0000004 ┆ PLAZA     ┆ Zona      ┆ Cerrado   ┆ … ┆ 191062    ┆ 2022-06-0 ┆ 4         ┆ 3 a 7    │\n",
       "│ 122353    ┆ UNION -   ┆ Centro    ┆           ┆   ┆           ┆ 5         ┆           ┆ dias     │\n",
       "│           ┆ 191062    ┆           ┆           ┆   ┆           ┆           ┆           ┆          │\n",
       "└───────────┴───────────┴───────────┴───────────┴───┴───────────┴───────────┴───────────┴──────────┘"
      ]
     },
     "execution_count": 94,
     "metadata": {},
     "output_type": "execute_result"
    }
   ],
   "source": [
    "Tickets.head(10)"
   ]
  },
  {
   "cell_type": "markdown",
   "metadata": {},
   "source": [
    "## BASE ATENCIONES"
   ]
  },
  {
   "cell_type": "code",
   "execution_count": 143,
   "metadata": {},
   "outputs": [],
   "source": [
    "from pathlib import Path"
   ]
  },
  {
   "cell_type": "code",
   "execution_count": 144,
   "metadata": {},
   "outputs": [
    {
     "data": {
      "text/plain": [
       "WindowsPath('../Atenciones')"
      ]
     },
     "execution_count": 144,
     "metadata": {},
     "output_type": "execute_result"
    }
   ],
   "source": [
    "rutaCarpeta = Path('../Atenciones')\n",
    "rutaCarpeta"
   ]
  },
  {
   "cell_type": "code",
   "execution_count": 145,
   "metadata": {},
   "outputs": [],
   "source": [
    "archivosExcel = list (rutaCarpeta.glob('*.xlsx'))"
   ]
  },
  {
   "cell_type": "code",
   "execution_count": 146,
   "metadata": {},
   "outputs": [
    {
     "data": {
      "text/plain": [
       "[WindowsPath('../Atenciones/Atenciones Centro.xlsx'),\n",
       " WindowsPath('../Atenciones/Atenciones Norte.xlsx'),\n",
       " WindowsPath('../Atenciones/Atenciones Sur.xlsx')]"
      ]
     },
     "execution_count": 146,
     "metadata": {},
     "output_type": "execute_result"
    }
   ],
   "source": [
    "archivosExcel"
   ]
  },
  {
   "cell_type": "code",
   "execution_count": 147,
   "metadata": {},
   "outputs": [
    {
     "name": "stdout",
     "output_type": "stream",
     "text": [
      "Atenciones Centro.xlsx\n",
      "Atenciones Norte.xlsx\n",
      "Atenciones Sur.xlsx\n"
     ]
    }
   ],
   "source": [
    "for archivo in archivosExcel:\n",
    "    print(str(archivo).split(\"\\\\\")[2])"
   ]
  },
  {
   "cell_type": "code",
   "execution_count": 148,
   "metadata": {},
   "outputs": [
    {
     "name": "stderr",
     "output_type": "stream",
     "text": [
      "C:\\Users\\takat\\AppData\\Local\\Temp\\ipykernel_1108\\3957672176.py:7: DeprecationWarning: `the argument read_csv_options` for `read_excel` is deprecated. It has been renamed to `read_options`.\n",
      "  Atenciones = pl.read_excel(\n"
     ]
    }
   ],
   "source": [
    "Atenciones = pl.DataFrame()\n",
    "\n",
    "for archivo in archivosExcel:\n",
    "\n",
    "    file = str(archivo).split(\"\\\\\")[2]\n",
    "\n",
    "    Atenciones = pl.read_excel(\n",
    "        source = '../Atenciones/' + file,\n",
    "        sheet_name= 'Hoja1',\n",
    "        engine= 'xlsx2csv',\n",
    "        read_csv_options = {\n",
    "            \"columns\": [\"Numero Ticket\",\"Tipo de Ticket\",\"Proveedor\",\"Costo Atencion\"],\n",
    "            \"dtypes\" : {\"Costo Atencion\": pl.Utf8}        }\n",
    "    )"
   ]
  },
  {
   "cell_type": "code",
   "execution_count": 149,
   "metadata": {},
   "outputs": [
    {
     "data": {
      "text/html": [
       "<div><style>\n",
       ".dataframe > thead > tr,\n",
       ".dataframe > tbody > tr {\n",
       "  text-align: right;\n",
       "  white-space: pre-wrap;\n",
       "}\n",
       "</style>\n",
       "<small>shape: (4_425, 4)</small><table border=\"1\" class=\"dataframe\"><thead><tr><th>Numero Ticket</th><th>Tipo de Ticket</th><th>Proveedor</th><th>Costo Atencion</th></tr><tr><td>str</td><td>str</td><td>str</td><td>str</td></tr></thead><tbody><tr><td>&quot;WO0000004149361&quot;</td><td>&quot;Rechazado&quot;</td><td>null</td><td>null</td></tr><tr><td>&quot;WO0000004849382&quot;</td><td>&quot;Variable&quot;</td><td>&quot;CIME COMERCIAL&quot;</td><td>null</td></tr><tr><td>&quot;WO0000004849382&quot;</td><td>&quot;Variable&quot;</td><td>&quot;CIME COMERCIAL&quot;</td><td>null</td></tr><tr><td>&quot;WO0000004849382&quot;</td><td>&quot;Variable&quot;</td><td>&quot;CIME COMERCIAL&quot;</td><td>null</td></tr><tr><td>&quot;WO0000004849382&quot;</td><td>&quot;Variable&quot;</td><td>&quot;CIME COMERCIAL&quot;</td><td>null</td></tr><tr><td>&quot;WO0000004849721&quot;</td><td>&quot;Variable&quot;</td><td>&quot;JGM IMPORT&quot;</td><td>null</td></tr><tr><td>&quot;WO0000004849721&quot;</td><td>&quot;Variable&quot;</td><td>&quot;JGM IMPORT&quot;</td><td>null</td></tr><tr><td>&quot;WO0000004849721&quot;</td><td>&quot;Variable&quot;</td><td>&quot;JGM IMPORT&quot;</td><td>null</td></tr><tr><td>&quot;WO0000004849721&quot;</td><td>&quot;Variable&quot;</td><td>&quot;JGM IMPORT&quot;</td><td>null</td></tr><tr><td>&quot;WO0000004849726&quot;</td><td>&quot;Variable&quot;</td><td>&quot;JGM IMPORT&quot;</td><td>null</td></tr><tr><td>&quot;WO0000004849726&quot;</td><td>&quot;Variable&quot;</td><td>&quot;JGM IMPORT&quot;</td><td>null</td></tr><tr><td>&quot;WO0000004849726&quot;</td><td>&quot;Variable&quot;</td><td>&quot;JGM IMPORT&quot;</td><td>null</td></tr><tr><td>&hellip;</td><td>&hellip;</td><td>&hellip;</td><td>&hellip;</td></tr><tr><td>&quot;WO0000005737163&quot;</td><td>&quot;Flat&quot;</td><td>&quot;ACCENTURE&quot;</td><td>null</td></tr><tr><td>&quot;WO0000005737503&quot;</td><td>&quot;Variable&quot;</td><td>&quot;COORPORACION R&amp;M&quot;</td><td>null</td></tr><tr><td>&quot;WO0000005737560&quot;</td><td>&quot;Variable&quot;</td><td>null</td><td>null</td></tr><tr><td>&quot;WO0000005737581&quot;</td><td>&quot;Rechazado&quot;</td><td>&quot;OTROS&quot;</td><td>null</td></tr><tr><td>&quot;WO0000005738320&quot;</td><td>&quot;Variable&quot;</td><td>&quot;TRAZAIDEA&quot;</td><td>null</td></tr><tr><td>&quot;WO0000005738335&quot;</td><td>&quot;Variable&quot;</td><td>&quot;PROSEGUR&quot;</td><td>null</td></tr><tr><td>&quot;WO0000005738345&quot;</td><td>&quot;Rechazado&quot;</td><td>&quot;OTROS&quot;</td><td>null</td></tr><tr><td>&quot;WO0000005738348&quot;</td><td>&quot;Rechazado&quot;</td><td>&quot;OTROS&quot;</td><td>null</td></tr><tr><td>&quot;WO0000005738704&quot;</td><td>&quot;Variable&quot;</td><td>&quot;PROSEGUR&quot;</td><td>null</td></tr><tr><td>&quot;WO0000005738705&quot;</td><td>&quot;Variable&quot;</td><td>&quot;COORPORACION R&amp;M&quot;</td><td>null</td></tr><tr><td>&quot;WO0000005738715&quot;</td><td>&quot;Variable&quot;</td><td>&quot;PROSEGUR&quot;</td><td>null</td></tr><tr><td>&quot;WO0000005738721&quot;</td><td>&quot;Flat&quot;</td><td>&quot;ACCENTURE&quot;</td><td>null</td></tr></tbody></table></div>"
      ],
      "text/plain": [
       "shape: (4_425, 4)\n",
       "┌─────────────────┬────────────────┬──────────────────┬────────────────┐\n",
       "│ Numero Ticket   ┆ Tipo de Ticket ┆ Proveedor        ┆ Costo Atencion │\n",
       "│ ---             ┆ ---            ┆ ---              ┆ ---            │\n",
       "│ str             ┆ str            ┆ str              ┆ str            │\n",
       "╞═════════════════╪════════════════╪══════════════════╪════════════════╡\n",
       "│ WO0000004149361 ┆ Rechazado      ┆ null             ┆ null           │\n",
       "│ WO0000004849382 ┆ Variable       ┆ CIME COMERCIAL   ┆ null           │\n",
       "│ WO0000004849382 ┆ Variable       ┆ CIME COMERCIAL   ┆ null           │\n",
       "│ WO0000004849382 ┆ Variable       ┆ CIME COMERCIAL   ┆ null           │\n",
       "│ WO0000004849382 ┆ Variable       ┆ CIME COMERCIAL   ┆ null           │\n",
       "│ …               ┆ …              ┆ …                ┆ …              │\n",
       "│ WO0000005738348 ┆ Rechazado      ┆ OTROS            ┆ null           │\n",
       "│ WO0000005738704 ┆ Variable       ┆ PROSEGUR         ┆ null           │\n",
       "│ WO0000005738705 ┆ Variable       ┆ COORPORACION R&M ┆ null           │\n",
       "│ WO0000005738715 ┆ Variable       ┆ PROSEGUR         ┆ null           │\n",
       "│ WO0000005738721 ┆ Flat           ┆ ACCENTURE        ┆ null           │\n",
       "└─────────────────┴────────────────┴──────────────────┴────────────────┘"
      ]
     },
     "execution_count": 149,
     "metadata": {},
     "output_type": "execute_result"
    }
   ],
   "source": [
    "Atenciones"
   ]
  },
  {
   "cell_type": "code",
   "execution_count": 150,
   "metadata": {},
   "outputs": [],
   "source": [
    "Atenciones =Atenciones.select(\n",
    "    pl.col('Numero Ticket').alias('TicketID'),\n",
    "    'Tipo de Ticket', \n",
    "    'Proveedor',\n",
    "    pl.col('Costo Atencion').str.strip_chars()\n",
    "    .str.to_uppercase()\n",
    "    .str.replace_many(\n",
    "        ['COSTO CERO', 'SIN COSTO'],\n",
    "        \"0\"    \n",
    "    )    \n",
    ")"
   ]
  },
  {
   "cell_type": "code",
   "execution_count": 151,
   "metadata": {},
   "outputs": [],
   "source": [
    "def texto_a_decimal(valor):\n",
    "    try:\n",
    "        return round(float(valor),2)\n",
    "    except:\n",
    "        return None"
   ]
  },
  {
   "cell_type": "code",
   "execution_count": 153,
   "metadata": {},
   "outputs": [],
   "source": [
    "Atenciones = Atenciones.with_columns(\n",
    "    pl.col('Costo Atencion').map_elements(texto_a_decimal).alias('Costo Atencion')\n",
    ")"
   ]
  }
 ],
 "metadata": {
  "kernelspec": {
   "display_name": "vEdicion",
   "language": "python",
   "name": "python3"
  },
  "language_info": {
   "codemirror_mode": {
    "name": "ipython",
    "version": 3
   },
   "file_extension": ".py",
   "mimetype": "text/x-python",
   "name": "python",
   "nbconvert_exporter": "python",
   "pygments_lexer": "ipython3",
   "version": "3.11.7"
  }
 },
 "nbformat": 4,
 "nbformat_minor": 2
}
